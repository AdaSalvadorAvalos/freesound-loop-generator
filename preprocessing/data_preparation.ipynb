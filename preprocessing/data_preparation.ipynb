{
 "cells": [
  {
   "cell_type": "markdown",
   "id": "9f4098f5",
   "metadata": {},
   "source": [
    "# Data Preparation for Training and EDA"
   ]
  },
  {
   "cell_type": "markdown",
   "id": "6da91983",
   "metadata": {},
   "source": [
    "Prepares a subset of audio files for training and exploratory data analysis (EDA).\n",
    "\n",
    "## Tasks\n",
    "1. Count the number of processed WAV files in the dataset directory.\n",
    "2. Select a subset of audio files totaling ~5 hours in duration.\n",
    "   - Each audio file is assumed to be 16 seconds long.\n",
    "   - Files are randomly shuffled before selection.\n",
    "\n",
    "## Dependencies\n",
    "- Python 3.10+\n",
    "- glob, os, random, shutil\n",
    "\n",
    "## Usage\n",
    "- Run all cells sequentially.\n",
    "- Modify `directory`, `file_duration_sec`, or `target_hours` to adjust subset size or source location.\n"
   ]
  },
  {
   "cell_type": "markdown",
   "id": "0ffe3b91",
   "metadata": {},
   "source": [
    "## Task 1: Count the number of processed WAV files"
   ]
  },
  {
   "cell_type": "code",
   "execution_count": null,
   "id": "391195f4",
   "metadata": {},
   "outputs": [
    {
     "name": "stdout",
     "output_type": "stream",
     "text": [
      "Number of *_processed.wav files: 4386\n"
     ]
    }
   ],
   "source": [
    "import glob\n",
    "import os\n",
    "\n",
    "# Directory containing the label files\n",
    "directory = \"../output_preprocess_rave/processed/\"\n",
    "\n",
    "# Pattern to match *_labels.json files\n",
    "wav_files = os.path.join(directory, \"*_processed.wav\")\n",
    "\n",
    "# Get all matching files\n",
    "wav_files = glob.glob(wav_files)\n",
    "\n",
    "# Count them\n",
    "print(f\"Number of *_processed.wav files: {len(wav_files)}\")"
   ]
  },
  {
   "cell_type": "markdown",
   "id": "b78aac94",
   "metadata": {},
   "source": [
    "## Task 2: Select a subset of audio files (~5 hours)"
   ]
  },
  {
   "cell_type": "code",
   "execution_count": null,
   "id": "7b18291b",
   "metadata": {},
   "outputs": [
    {
     "name": "stdout",
     "output_type": "stream",
     "text": [
      "Found 4386 wav files.\n",
      "Selecting 1125 files for approximately 5 hours of audio.\n",
      "Copied selected files to ../../output_preprocess_rave/processed/wav_files_5h\n"
     ]
    }
   ],
   "source": [
    "import os\n",
    "import glob\n",
    "import random\n",
    "import shutil\n",
    "\n",
    "# Directory containing your original files\n",
    "directory = \"../output_preprocess_rave/processed/\"\n",
    "\n",
    "# Pattern to match wav files\n",
    "wav_pattern = os.path.join(directory, \"*_processed.wav\")\n",
    "\n",
    "# Get all wav files matching pattern\n",
    "wav_files = glob.glob(wav_pattern)\n",
    "\n",
    "print(f\"Found {len(wav_files)} wav files.\")\n",
    "\n",
    "# Each file duration in seconds\n",
    "file_duration_sec = 16\n",
    "target_hours = 5\n",
    "target_seconds = target_hours * 3600\n",
    "\n",
    "# Number of files needed for 5 hours\n",
    "files_needed = target_seconds // file_duration_sec\n",
    "\n",
    "# Shuffle files\n",
    "random.shuffle(wav_files)\n",
    "\n",
    "# Select subset\n",
    "selected_files = wav_files[:int(files_needed)]\n",
    "\n",
    "print(f\"Selecting {len(selected_files)} files for approximately {target_hours} hours of audio.\")\n",
    "\n",
    "# Create new directory for 5h subset\n",
    "output_dir = os.path.join(directory, \"wav_files_5h\")\n",
    "os.makedirs(output_dir, exist_ok=True)\n",
    "\n",
    "# Copy selected files to new directory\n",
    "for filepath in selected_files:\n",
    "    filename = os.path.basename(filepath)\n",
    "    dest_path = os.path.join(output_dir, filename)\n",
    "    shutil.copy2(filepath, dest_path)\n",
    "\n",
    "print(f\"Copied selected files to {output_dir}\")\n"
   ]
  }
 ],
 "metadata": {
  "kernelspec": {
   "display_name": "Python 3",
   "language": "python",
   "name": "python3"
  },
  "language_info": {
   "codemirror_mode": {
    "name": "ipython",
    "version": 3
   },
   "file_extension": ".py",
   "mimetype": "text/x-python",
   "name": "python",
   "nbconvert_exporter": "python",
   "pygments_lexer": "ipython3",
   "version": "3.10.16"
  }
 },
 "nbformat": 4,
 "nbformat_minor": 5
}
